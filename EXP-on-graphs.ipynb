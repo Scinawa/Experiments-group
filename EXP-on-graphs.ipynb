{
 "cells": [
  {
   "attachments": {},
   "cell_type": "markdown",
   "metadata": {},
   "source": [
    "# Expertiments with directed and undirected graphs"
   ]
  },
  {
   "attachments": {},
   "cell_type": "markdown",
   "metadata": {},
   "source": [
    "( This is done using my sage310 or kerasenv3.10.6 environment )"
   ]
  },
  {
   "cell_type": "code",
   "execution_count": 6,
   "metadata": {},
   "outputs": [],
   "source": [
    "%matplotlib inline\n",
    "\n",
    "import scipy\n",
    "import scipy.io\n",
    "import pickle\n",
    "import numpy as np\n",
    "from scipy.spatial.distance import pdist, squareform\n",
    "import networkx as nx\n",
    "import matplotlib.pyplot as plt\n",
    "from random import choice\n",
    "import seaborn as sns\n",
    "import time\n",
    "from sklearn.decomposition  import PCA\n",
    "from sklearn.svm import SVC\n",
    "from sklearn.model_selection import train_test_split\n",
    "from sklearn.metrics import classification_report, accuracy_score\n",
    "import sklearn as sk\n",
    "import random\n",
    "import pprint\n",
    "import numpy as np\n",
    "import warnings\n",
    "\n",
    "\n",
    "\n",
    "import helper_common_files as HCF\n",
    "\n",
    "\n",
    "rand_state = 42\n",
    "np.random.seed(rand_state)"
   ]
  },
  {
   "cell_type": "code",
   "execution_count": 7,
   "metadata": {},
   "outputs": [],
   "source": [
    "kcorre_names = ( '1orbit-2-corre-dict', '1orbit-3-corre-dict', '1orbit-4-corre-dict', '1orbit-5-corre-dict', '1orbit-6-corre-dict') \n",
    "max_k = HCF.find_maximum_number(kcorre_names)\n",
    "\n",
    "handle = open('dataset-simple-graphs/graph7.g6-skew.pickle', 'rb')\n",
    "\n",
    "\n",
    "raw_dataset = pickle.load(handle)\n",
    "handle.close()\n",
    "dataset = raw_dataset[1]\n"
   ]
  },
  {
   "cell_type": "markdown",
   "metadata": {},
   "source": [
    "Pollute with non-isomorphic graphs the dataset and check for the pollution."
   ]
  },
  {
   "cell_type": "code",
   "execution_count": 44,
   "metadata": {},
   "outputs": [
    {
     "name": "stdout",
     "output_type": "stream",
     "text": [
      "Number of non-isomorphic graphs:  1044\n",
      "Number of isomorphic grpahs 0\n",
      "They are:\n",
      "[]\n"
     ]
    }
   ],
   "source": [
    "non_isomorphic_graphs = len(raw_dataset[0])\n",
    "\n",
    "\n",
    "print(\"Number of non-isomorphic graphs: \", non_isomorphic_graphs)\n",
    "\n",
    "#### POLLUTE WITH NON-ISOMORPHIC\n",
    "#raw_dataset = HCF.pollute_with_isomorphic_graphs(raw_dataset, 40, kcorre_names)\n",
    "\n",
    "\n",
    "isomorphic_graphs = HCF.find_isomorphic_graphs(raw_dataset[0])\n",
    "print(\"Number of isomorphic grpahs\", len(isomorphic_graphs))\n",
    "print(\"They are:\")\n",
    "pprint.pprint(isomorphic_graphs)"
   ]
  },
  {
   "cell_type": "markdown",
   "metadata": {},
   "source": [
    "Let's create the table that is used to build the graph data structure"
   ]
  },
  {
   "cell_type": "code",
   "execution_count": 9,
   "metadata": {},
   "outputs": [
    {
     "name": "stdout",
     "output_type": "stream",
     "text": [
      "--- computed distances ---\n",
      "Finished clustering!\n",
      "--- computed distances ---\n",
      "Finished clustering!\n",
      "--- computed distances ---\n",
      "Finished clustering!\n",
      "--- computed distances ---\n",
      "Finished clustering!\n",
      "--- computed distances ---\n",
      "Finished clustering!\n"
     ]
    }
   ],
   "source": [
    "# Are you sure you want to run this? Very slow. \n",
    "##### TRIGGER LENTEZZA!!!\n",
    "T_test = HCF.create_T_table_2(dataset, kcorre_names)\n",
    "\n",
    "\n",
    "##### THIS IS THE FAST ALGORITHM\n",
    "T = HCF.create_T_table(dataset, kcorre_names)\n",
    "##### TODO MAYBE WE SHOULD TRUNCATE INSIDE THIS FUNCTION\n"
   ]
  },
  {
   "cell_type": "markdown",
   "metadata": {},
   "source": [
    "Create graph data structure from table"
   ]
  },
  {
   "cell_type": "code",
   "execution_count": 10,
   "metadata": {},
   "outputs": [],
   "source": [
    "G = HCF.build_networkx_graph(T, maxk=5)\n",
    "\n",
    "\n",
    "#### TESTING EVEN FURTHER THE EQUIVALENCE BETWEEN THE TWO GRAPHS\n",
    "#G = HCF.build_networkx_graph(T_test, maxk=5)\n",
    "#print(nx.is_isomorphic(G, G_test))"
   ]
  },
  {
   "cell_type": "markdown",
   "metadata": {},
   "source": [
    "Let's find nodes or edges that are not linked to the main tree."
   ]
  },
  {
   "cell_type": "code",
   "execution_count": 11,
   "metadata": {},
   "outputs": [
    {
     "name": "stdout",
     "output_type": "stream",
     "text": [
      "Number of nodes in original graph: 4879, number of nodes in the BDF: 4879\n",
      "Number of edges in original graph: 4893, number of edgs in the BDF: 4878\n"
     ]
    }
   ],
   "source": [
    "G_bfs = nx.bfs_tree(G, (0,0))\n",
    "print(\"Number of nodes in original graph: {}, number of nodes in the BDF: {}\".format(G.number_of_nodes(), G_bfs.number_of_nodes()))\n",
    "print(\"Number of edges in original graph: {}, number of edgs in the BDF: {}\".format(G.number_of_edges(), G_bfs.number_of_edges()))"
   ]
  },
  {
   "cell_type": "markdown",
   "metadata": {},
   "source": [
    "What's left in the graph if we remove the BFS?"
   ]
  },
  {
   "cell_type": "code",
   "execution_count": 46,
   "metadata": {},
   "outputs": [
    {
     "name": "stdout",
     "output_type": "stream",
     "text": [
      "list index out of range\n"
     ]
    }
   ],
   "source": [
    "G_leftover = HCF.graph_subtraction_nodes(G, G_bfs)\n",
    "\n",
    "try:\n",
    "    random_node = choice(list(G_leftover.nodes))\n",
    "    print(random_node)\n",
    "except Exception as e:\n",
    "    print(e)"
   ]
  },
  {
   "cell_type": "code",
   "execution_count": 14,
   "metadata": {},
   "outputs": [
    {
     "name": "stdout",
     "output_type": "stream",
     "text": [
      "The G_bfs is a DAG?:  True\n",
      "The G_bfs is a Tree?:  True\n",
      "The G is a DAG?:  True\n",
      "The G is a Tree?:  False\n"
     ]
    }
   ],
   "source": [
    "print(\"The G_bfs is a DAG?: \", nx.is_directed_acyclic_graph(G_bfs))\n",
    "\n",
    "print(\"The G_bfs is a Tree?: \", nx.is_tree(G_bfs))\n",
    "\n",
    "print(\"The G is a DAG?: \", nx.is_directed_acyclic_graph(G))\n",
    "\n",
    "print(\"The G is a Tree?: \", nx.is_tree(G))\n"
   ]
  },
  {
   "cell_type": "markdown",
   "metadata": {},
   "source": [
    "## Let's plot the tree! "
   ]
  },
  {
   "cell_type": "markdown",
   "metadata": {},
   "source": [
    "You can play with different numbe of iterations and figsize"
   ]
  },
  {
   "cell_type": "code",
   "execution_count": 15,
   "metadata": {},
   "outputs": [],
   "source": [
    "#pos = nx.spring_layout(G_bfs, iterations=50)\n",
    "#plt.figure(figsize=(200,200)) \n",
    "#nx.draw(G_bfs, pos,  with_labels=True, font_size=8)"
   ]
  },
  {
   "cell_type": "code",
   "execution_count": 16,
   "metadata": {},
   "outputs": [],
   "source": [
    "#pos = nx.spring_layout(G_bfs, iterations=100)\n",
    "#plt.figure(figsize=(200,200)) \n",
    "#nx.draw(G_bfs, pos,  with_labels=True, font_size=8)"
   ]
  },
  {
   "cell_type": "markdown",
   "metadata": {},
   "source": [
    "## Do we gain distinguishing capabilities increasing k for the k-reduced-skew-spectrum?\n",
    "YES!\n",
    "### Lottery ticket: nodes with a split at depth k> 2"
   ]
  },
  {
   "cell_type": "code",
   "execution_count": 17,
   "metadata": {},
   "outputs": [
    {
     "name": "stdout",
     "output_type": "stream",
     "text": [
      "We have 2 lottery tickets, i.e. nodes with a split at depth k>3 \n",
      "\n",
      "\n",
      "{'1orbit-0-corre-dict': 723,\n",
      " '1orbit-2-corre-dict': 502,\n",
      " '1orbit-3-corre-dict': 4,\n",
      " '1orbit-4-corre-dict': 0,\n",
      " '1orbit-5-corre-dict': 0,\n",
      " '1orbit-6-corre-dict': 0}\n",
      "The number of nodes is  4879\n",
      "The number of graphs is  1044\n",
      "\n",
      "\n",
      "The lottery tickets are:\n",
      "[(3, 248, 405), (3, 314, 634)]\n"
     ]
    }
   ],
   "source": [
    "histogram, hits, lottery_tickets = HCF.count_bifurcations(G, kcorre_names)       \n",
    "\n",
    "print(\"We have {} lottery tickets, i.e. nodes with a split at depth k>3 \\n\\n\".format(len(lottery_tickets)))\n",
    "\n",
    "pprint.pprint(histogram)\n",
    "\n",
    "print(\"The number of nodes is \", G_bfs.number_of_nodes())\n",
    "print(\"The number of graphs is \", len(raw_dataset[0]))\n",
    "\n",
    "try:\n",
    "    lottery_ticket = random.choice(lottery_tickets)\n",
    "except Exception as e:\n",
    "    pass\n",
    "\n",
    "print(\"\\n\\nThe lottery tickets are:\")\n",
    "print(lottery_tickets)\n"
   ]
  },
  {
   "cell_type": "code",
   "execution_count": 18,
   "metadata": {},
   "outputs": [
    {
     "name": "stdout",
     "output_type": "stream",
     "text": [
      "Are the two graph isomorphic? (We believe not, as they can be distinguished k+1 correlation): False\n",
      "Are the 3-correlations the same? True\n",
      "Are the 4-correlations the same? False\n",
      "Let's print the difference between the two 4 correlations\n",
      "[ 0.        0.        0.        0.        0.        0.        0.\n",
      "  0.        0.        0.        0.        0.        0.        0.\n",
      "  0.        0.        0.        0.        0.        0.        0.\n",
      "  0.        0.        0.        0.        0.        0.        0.\n",
      "  0.        0.        0.        0.        0.        0.        0.\n",
      "  0.        0.        0.        0.        0.        0.        0.\n",
      "  0.        0.        0.        0.        0.        0.        0.\n",
      "  0.        0.        0.        0.        0.        0.        0.\n",
      "  0.        0.        0.        0.        0.        0.        0.\n",
      "  0.        0.        0.        0.        0.        0.        0.\n",
      "  0.        0.        0.        0.        0.        0.        0.\n",
      "  0.        0.        0.        0.        0.        0.        0.\n",
      "  0.        0.        0.        0.        0.        0.        0.\n",
      "  0.        0.        0.        0.        0.        0.        0.\n",
      "  0.        0.        0.        0.        0.        0.        0.\n",
      "  0.        0.        0.        0.        0.        0.        0.\n",
      "  0.        0.        0.        0.        0.        0.        0.\n",
      "  0.        0.        0.        0.        0.        0.        0.\n",
      "  0.        0.        0.        0.        0.        0.        0.\n",
      "  0.        0.        0.        0.        0.        0.        0.\n",
      "  0.        0.        0.        0.        0.        0.        0.\n",
      "  0.        0.        0.        0.        0.        0.        0.\n",
      "  0.        0.        0.        0.        0.        0.        0.\n",
      "  0.        0.        0.        0.        0.        0.        0.\n",
      "  0.        0.        0.        0.        0.        0.        0.\n",
      "  0.        0.        0.        0.        0.        0.        0.\n",
      "  0.        0.        0.        0.        0.        0.        0.\n",
      "  0.       -0.000264 -0.000313 -0.000313 -0.00037   0.000272  0.\n",
      "  0.        0.        0.        0.        0.        0.        0.\n",
      "  0.        0.        0.        0.        0.        0.        0.\n",
      "  0.       -0.000264 -0.000313 -0.000313 -0.00037   0.000272  0.\n",
      "  0.        0.        0.        0.        0.        0.        0.\n",
      "  0.       -0.000264 -0.000313 -0.000313 -0.00037   0.000272  0.\n",
      "  0.        0.        0.        0.        0.        0.        0.\n",
      "  0.       -0.000264 -0.000313 -0.000313 -0.00037   0.000272  0.      ]\n"
     ]
    }
   ],
   "source": [
    "try:\n",
    "    print(\"Are the two graph isomorphic? (We believe not, as they can be distinguished k+1 correlation):\", nx.is_isomorphic(raw_dataset[0][lottery_ticket[1]], raw_dataset[0][lottery_ticket[2]]))\n",
    "    print(\"Are the 3-correlations the same?\", np.allclose(raw_dataset[1]['1orbit-3-corre-dict'][lottery_ticket[1]], raw_dataset[1]['1orbit-3-corre-dict'][lottery_ticket[2]]))\n",
    "    print(\"Are the 4-correlations the same?\",  np.allclose(raw_dataset[1]['1orbit-4-corre-dict'][lottery_ticket[1]], raw_dataset[1]['1orbit-4-corre-dict'][lottery_ticket[2]]))\n",
    "    print(\"Let's print the difference between the two 4 correlations\")\n",
    "    print(raw_dataset[1]['1orbit-4-corre-dict'][lottery_ticket[1]]- raw_dataset[1]['1orbit-4-corre-dict'][lottery_ticket[2]])\n",
    "except Exception as e:\n",
    "    print(e)\n",
    "    pass"
   ]
  },
  {
   "cell_type": "markdown",
   "metadata": {},
   "source": [
    "Let's plot some of those lottery tickets"
   ]
  },
  {
   "cell_type": "code",
   "execution_count": 19,
   "metadata": {},
   "outputs": [
    {
     "data": {
      "image/png": "[encoded data removed]",
      "text/plain": [
       "<Figure size 700x1400 with 2 Axes>"
      ]
     },
     "metadata": {},
     "output_type": "display_data"
    }
   ],
   "source": [
    "if len(lottery_tickets) > 0:    \n",
    "    fig, axs = plt.subplots(nrows=len(lottery_tickets), figsize=(7, 7*len(lottery_tickets)))\n",
    "    for i, ticket in enumerate(lottery_tickets):\n",
    "        newgraph = nx.union(raw_dataset[0][ticket[1]], raw_dataset[0][ticket[2]], rename=(\"{}A\".format(i), \"{}B\".format(i)))\n",
    "        pos = nx.spring_layout(newgraph, iterations=20)\n",
    "        #plt.figure(figsize=(7,7)) \n",
    "        #axs[i].imshow()\n",
    "        nx.draw(newgraph, pos,  with_labels=True, font_size=8, ax=axs[i])"
   ]
  },
  {
   "cell_type": "markdown",
   "metadata": {},
   "source": [
    "## Let's find graphs that we cannot distinguish in all the levels"
   ]
  },
  {
   "cell_type": "code",
   "execution_count": null,
   "metadata": {},
   "outputs": [],
   "source": []
  },
  {
   "cell_type": "code",
   "execution_count": 20,
   "metadata": {},
   "outputs": [
    {
     "name": "stdout",
     "output_type": "stream",
     "text": [
      "The non singleton nodes are: \n",
      "{0: [],\n",
      " 1: [],\n",
      " 2: [(2, 76, 350),\n",
      "     (2, 84, 78),\n",
      "     (2, 130, 79),\n",
      "     (2, 88, 82),\n",
      "     (2, 83, 126),\n",
      "     (2, 92, 86),\n",
      "     (2, 96, 90),\n",
      "     (2, 380, 188, 100),\n",
      "     (2, 148, 102),\n",
      "     (2, 149, 103),\n",
      "     (2, 104, 205, 182),\n",
      "     (2, 224, 364, 212, 108),\n",
      "     (2, 162, 157, 270),\n",
      "     (2, 204, 183),\n",
      "     (2, 184, 378, 382),\n",
      "     (2, 185, 217, 189),\n",
      "     (2, 384, 186),\n",
      "     (2, 371, 370, 187),\n",
      "     (2, 372, 373, 190),\n",
      "     (2, 386, 381, 191),\n",
      "     (2, 193, 374),\n",
      "     (2, 194, 388),\n",
      "     (2, 196, 198),\n",
      "     (2, 267, 206),\n",
      "     (2, 264, 207),\n",
      "     (2, 208, 354),\n",
      "     (2, 209, 221, 359),\n",
      "     (2, 355, 211),\n",
      "     (2, 379, 219, 365),\n",
      "     (2, 362, 222),\n",
      "     (2, 225, 367),\n",
      "     (2, 249, 231),\n",
      "     (2, 233, 284),\n",
      "     (2, 240, 241),\n",
      "     (2, 242, 422, 390),\n",
      "     (2, 423, 243, 391),\n",
      "     (2, 426, 246),\n",
      "     (2, 430, 433, 404, 247, 251),\n",
      "     (2, 248, 405, 431),\n",
      "     (2, 393, 250, 425),\n",
      "     (2, 252, 413, 292),\n",
      "     (2, 427, 253, 397),\n",
      "     (2, 398, 428, 254),\n",
      "     (2, 435, 255),\n",
      "     (2, 280, 291, 412),\n",
      "     (2, 601, 555, 283, 411),\n",
      "     (2, 285, 414),\n",
      "     (2, 584, 406, 287),\n",
      "     (2, 288, 407),\n",
      "     (2, 289, 409),\n",
      "     (2, 416, 293),\n",
      "     (2, 441, 301),\n",
      "     (2, 442, 302),\n",
      "     (2, 321, 308),\n",
      "     (2, 488, 628, 309, 437, 662, 474),\n",
      "     (2, 492, 660, 312, 633, 443),\n",
      "     (2, 313, 659, 617),\n",
      "     (2, 649, 314, 634),\n",
      "     (2, 496, 315, 476, 656),\n",
      "     (2, 664, 498, 316),\n",
      "     (2, 329, 318),\n",
      "     (2, 641, 323),\n",
      "     (2, 643, 324),\n",
      "     (2, 325, 646),\n",
      "     (2, 644, 327),\n",
      "     (2, 328, 651),\n",
      "     (2, 336, 673),\n",
      "     (2, 337, 674),\n",
      "     (2, 551, 343),\n",
      "     (2, 560, 395, 608, 605),\n",
      "     (2, 434, 396),\n",
      "     (2, 471, 439),\n",
      "     (2, 449, 556),\n",
      "     (2, 554, 451, 594, 598),\n",
      "     (2, 600, 595, 452, 564),\n",
      "     (2, 597, 453, 604),\n",
      "     (2, 606, 454),\n",
      "     (2, 456, 611),\n",
      "     (2, 457, 613),\n",
      "     (2, 480, 460),\n",
      "     (2, 482, 483, 462),\n",
      "     (2, 484, 463),\n",
      "     (2, 621, 623, 466, 530, 503, 536, 510),\n",
      "     (2, 624, 531, 467, 504, 511),\n",
      "     (2, 658, 469),\n",
      "     (2, 491, 470, 494),\n",
      "     (2, 472, 650, 661),\n",
      "     (2, 473, 657, 487),\n",
      "     (2, 489, 475, 663),\n",
      "     (2, 497, 477, 622),\n",
      "     (2, 665, 479),\n",
      "     (2, 648, 485, 631),\n",
      "     (2, 528, 505, 500, 532),\n",
      "     (2, 616, 777, 620, 527, 501),\n",
      "     (2, 618, 507, 534),\n",
      "     (2, 508, 535),\n",
      "     (2, 523, 916, 509, 774),\n",
      "     (2, 512, 773, 778, 525, 918),\n",
      "     (2, 625, 514, 538),\n",
      "     (2, 539, 515),\n",
      "     (2, 666, 516),\n",
      "     (2, 706, 518, 543, 754, 799),\n",
      "     (2, 544, 519),\n",
      "     (2, 520, 677),\n",
      "     (2, 529, 524, 615),\n",
      "     (2, 537, 526),\n",
      "     (2, 676, 541),\n",
      "     (2, 545, 708),\n",
      "     (2, 547, 707, 931, 747, 781, 783, 815),\n",
      "     (2, 592, 553),\n",
      "     (2, 587, 596, 558, 607),\n",
      "     (2, 593, 559),\n",
      "     (2, 562, 610),\n",
      "     (2, 563, 599),\n",
      "     (2, 612, 565),\n",
      "     (2, 614, 567),\n",
      "     (2, 578, 667),\n",
      "     (2, 579, 671),\n",
      "     (2, 681, 729, 703),\n",
      "     (2, 684, 709, 750),\n",
      "     (2, 704, 690),\n",
      "     (2, 705, 730, 745),\n",
      "     (2, 749, 710),\n",
      "     (2, 717, 718, 711),\n",
      "     (2, 929, 712, 811, 814, 782, 728),\n",
      "     (2, 713, 751, 719),\n",
      "     (2, 752, 714),\n",
      "     (2, 800, 715),\n",
      "     (2, 753, 716),\n",
      "     (2, 804, 748, 720, 755, 731),\n",
      "     (2, 802, 938, 942, 784, 721, 734),\n",
      "     (2, 722, 756),\n",
      "     (2, 851, 724, 796),\n",
      "     (2, 808, 725, 855),\n",
      "     (2, 785, 732, 788, 926),\n",
      "     (2, 930, 786, 813, 733),\n",
      "     (2, 927, 810, 789, 735),\n",
      "     (2, 736, 817, 933, 791),\n",
      "     (2, 760, 853, 742),\n",
      "     (2, 948, 819, 764, 822),\n",
      "     (2, 797, 765),\n",
      "     (2, 953, 770, 842),\n",
      "     (2, 776, 917),\n",
      "     (2, 779, 919),\n",
      "     (2, 920, 780),\n",
      "     (2, 816, 787, 932),\n",
      "     (2, 792, 818, 934),\n",
      "     (2, 794, 820),\n",
      "     (2, 872, 795, 831),\n",
      "     (2, 803, 941),\n",
      "     (2, 854, 806),\n",
      "     (2, 928, 812),\n",
      "     (2, 821, 950, 949),\n",
      "     (2, 824, 834, 951),\n",
      "     (2, 952, 825),\n",
      "     (2, 832, 955, 973, 887),\n",
      "     (2, 833, 962, 838, 968, 958),\n",
      "     (2, 969, 835, 884),\n",
      "     (2, 970, 836, 885, 879),\n",
      "     (2, 946, 972, 837, 886),\n",
      "     (2, 888, 959, 974, 839),\n",
      "     (2, 840, 963),\n",
      "     (2, 841, 889, 975),\n",
      "     (2, 843, 965),\n",
      "     (2, 976, 891, 844),\n",
      "     (2, 873, 877),\n",
      "     (2, 882, 875),\n",
      "     (2, 880, 971),\n",
      "     (2, 977, 892),\n",
      "     (2, 905, 1017, 893, 983),\n",
      "     (2, 894, 1007),\n",
      "     (2, 986, 1011, 895),\n",
      "     (2, 896, 987),\n",
      "     (2, 1024, 901),\n",
      "     (2, 904, 1016, 1015),\n",
      "     (2, 906, 1018),\n",
      "     (2, 907, 1019),\n",
      "     (2, 908, 1023),\n",
      "     (2, 1025, 990, 910),\n",
      "     (2, 1026, 911),\n",
      "     (2, 1008, 985, 966),\n",
      "     (2, 984, 1009),\n",
      "     (2, 1021, 989)],\n",
      " 3: [(3, 248, 405), (3, 314, 634)],\n",
      " 4: [(4, 0, 1)],\n",
      " 5: [(5, 0, 1, 57, 7)],\n",
      " 6: [(6, 0, 1, 2, 3, 4, 5, 6, 7, 8, 9, 10, 20, 22, 57, 58), (6, 346, 78)]}\n"
     ]
    }
   ],
   "source": [
    "non_singleton_nodes = {i:[] for i in range(7)}\n",
    "\n",
    "for node in G:\n",
    "    if len(node) > 2:\n",
    "        non_singleton_nodes[node[0]].append(node)\n",
    "\n",
    "print(\"The non singleton nodes are: \")\n",
    "pprint.pprint(non_singleton_nodes)"
   ]
  },
  {
   "cell_type": "code",
   "execution_count": 21,
   "metadata": {},
   "outputs": [
    {
     "data": {
      "image/png": "[encoded data removed]",
      "text/plain": [
       "<Figure size 700x700 with 1 Axes>"
      ]
     },
     "metadata": {},
     "output_type": "display_data"
    }
   ],
   "source": [
    "limit = 5\n",
    "selected_k = 4\n",
    "\n",
    "fig, axs = plt.subplots(nrows=len(non_singleton_nodes[selected_k][:limit]), figsize=(7, 7*len(non_singleton_nodes[selected_k][:limit])))\n",
    "for i, ticket in enumerate(non_singleton_nodes[selected_k][:limit]):\n",
    "    newgraph = nx.union(raw_dataset[0][ticket[1]], raw_dataset[0][ticket[2]], rename=(\"{}-A\".format(i), \"{}-B\".format(i)))\n",
    "    pos = nx.spring_layout(newgraph, iterations=50)\n",
    "    nx.draw(newgraph, pos, ax=axs,  with_labels=True, font_size=8)\n",
    "    #nx.draw(newgraph, pos, ax=axs[i],  with_labels=True, font_size=8)\n",
    "    # If there is more then one non_singleton_nodes[selected_k] we need to use axs[i] instead of axs\n",
    "\n"
   ]
  },
  {
   "cell_type": "markdown",
   "metadata": {},
   "source": [
    "## Limitations of the krsksp\n",
    "\n"
   ]
  },
  {
   "cell_type": "markdown",
   "metadata": {},
   "source": [
    "Let's look at the leaves. There might be leaves with n at any layer (if we made error building the graph), and leaves at layer k=$maxk. Let's "
   ]
  },
  {
   "cell_type": "code",
   "execution_count": 40,
   "metadata": {},
   "outputs": [
    {
     "name": "stdout",
     "output_type": "stream",
     "text": [
      "Number of leaves 1029\n",
      "Number of non separated leaves at any level: 2\n",
      "[(6, 0, 1, 2, 3, 4, 5, 6, 7, 8, 9, 10, 20, 22, 57, 58), (6, 346, 78)]\n",
      "Number of non separated leaves at last layer 6: 2\n",
      "[(6, 0, 1, 2, 3, 4, 5, 6, 7, 8, 9, 10, 20, 22, 57, 58), (6, 346, 78)]\n",
      "\n",
      "The number of paths is:  15\n",
      "The paths are: \n",
      "[[(0, 0),\n",
      "  (2, 0),\n",
      "  (3, 0),\n",
      "  (4, 0, 1),\n",
      "  (5, 0, 1, 57, 7),\n",
      "  (6, 0, 1, 2, 3, 4, 5, 6, 7, 8, 9, 10, 20, 22, 57, 58)],\n",
      " [(0, 0),\n",
      "  (2, 1),\n",
      "  (3, 1),\n",
      "  (4, 0, 1),\n",
      "  (5, 0, 1, 57, 7),\n",
      "  (6, 0, 1, 2, 3, 4, 5, 6, 7, 8, 9, 10, 20, 22, 57, 58)],\n",
      " [(0, 0),\n",
      "  (2, 2),\n",
      "  (3, 2),\n",
      "  (4, 2),\n",
      "  (5, 2),\n",
      "  (6, 0, 1, 2, 3, 4, 5, 6, 7, 8, 9, 10, 20, 22, 57, 58)],\n",
      " [(0, 0),\n",
      "  (2, 3),\n",
      "  (3, 3),\n",
      "  (4, 3),\n",
      "  (5, 3),\n",
      "  (6, 0, 1, 2, 3, 4, 5, 6, 7, 8, 9, 10, 20, 22, 57, 58)],\n",
      " [(0, 0),\n",
      "  (2, 4),\n",
      "  (3, 4),\n",
      "  (4, 4),\n",
      "  (5, 4),\n",
      "  (6, 0, 1, 2, 3, 4, 5, 6, 7, 8, 9, 10, 20, 22, 57, 58)],\n",
      " [(0, 0),\n",
      "  (2, 5),\n",
      "  (3, 5),\n",
      "  (4, 5),\n",
      "  (5, 5),\n",
      "  (6, 0, 1, 2, 3, 4, 5, 6, 7, 8, 9, 10, 20, 22, 57, 58)],\n",
      " [(0, 0),\n",
      "  (2, 6),\n",
      "  (3, 6),\n",
      "  (4, 6),\n",
      "  (5, 6),\n",
      "  (6, 0, 1, 2, 3, 4, 5, 6, 7, 8, 9, 10, 20, 22, 57, 58)],\n",
      " [(0, 0),\n",
      "  (2, 7),\n",
      "  (3, 7),\n",
      "  (4, 7),\n",
      "  (5, 0, 1, 57, 7),\n",
      "  (6, 0, 1, 2, 3, 4, 5, 6, 7, 8, 9, 10, 20, 22, 57, 58)],\n",
      " [(0, 0),\n",
      "  (2, 8),\n",
      "  (3, 8),\n",
      "  (4, 8),\n",
      "  (5, 8),\n",
      "  (6, 0, 1, 2, 3, 4, 5, 6, 7, 8, 9, 10, 20, 22, 57, 58)],\n",
      " [(0, 0),\n",
      "  (2, 9),\n",
      "  (3, 9),\n",
      "  (4, 9),\n",
      "  (5, 9),\n",
      "  (6, 0, 1, 2, 3, 4, 5, 6, 7, 8, 9, 10, 20, 22, 57, 58)],\n",
      " [(0, 0),\n",
      "  (2, 10),\n",
      "  (3, 10),\n",
      "  (4, 10),\n",
      "  (5, 10),\n",
      "  (6, 0, 1, 2, 3, 4, 5, 6, 7, 8, 9, 10, 20, 22, 57, 58)],\n",
      " [(0, 0),\n",
      "  (2, 20),\n",
      "  (3, 20),\n",
      "  (4, 20),\n",
      "  (5, 20),\n",
      "  (6, 0, 1, 2, 3, 4, 5, 6, 7, 8, 9, 10, 20, 22, 57, 58)],\n",
      " [(0, 0),\n",
      "  (2, 22),\n",
      "  (3, 22),\n",
      "  (4, 22),\n",
      "  (5, 22),\n",
      "  (6, 0, 1, 2, 3, 4, 5, 6, 7, 8, 9, 10, 20, 22, 57, 58)],\n",
      " [(0, 0),\n",
      "  (2, 57),\n",
      "  (3, 57),\n",
      "  (4, 57),\n",
      "  (5, 0, 1, 57, 7),\n",
      "  (6, 0, 1, 2, 3, 4, 5, 6, 7, 8, 9, 10, 20, 22, 57, 58)],\n",
      " [(0, 0),\n",
      "  (2, 58),\n",
      "  (3, 58),\n",
      "  (4, 58),\n",
      "  (5, 58),\n",
      "  (6, 0, 1, 2, 3, 4, 5, 6, 7, 8, 9, 10, 20, 22, 57, 58)]]\n"
     ]
    }
   ],
   "source": [
    "leaves = [x for x in G.nodes() if G.out_degree(x)==0]\n",
    "print(\"Number of leaves\", len(leaves))\n",
    "\n",
    "non_separated_leaves = [x for x in G.nodes() if G.out_degree(x)==0 and len(x) > 2]  \n",
    "print(\"Number of non separated leaves at any level: {}\".format(len(non_separated_leaves)))\n",
    "print(non_separated_leaves)\n",
    "\n",
    "non_separated_leaves_lastk = [x for x in G.nodes() if G.out_degree(x)==0 and len(x) > 2 and x[0]==max_k] \n",
    "print(\"Number of non separated leaves at last layer 6: {}\".format(len(non_separated_leaves_lastk)))\n",
    "print(non_separated_leaves_lastk)\n",
    "\n",
    "print('')\n",
    "\n",
    "\n",
    "paths = nx.all_simple_paths(G, (0,0), (6, 0, 1, 2, 3, 4, 5, 6, 7, 8, 9, 10, 20, 22, 57, 58))\n",
    "paths = [path for path in paths]\n",
    "print(\"The number of paths is: \", len(paths))\n",
    "print(\"The paths are: \")\n",
    "pprint.pprint(paths)"
   ]
  },
  {
   "cell_type": "markdown",
   "metadata": {},
   "source": [
    "### Finding collisions: nodes with indegree > 1"
   ]
  },
  {
   "cell_type": "code",
   "execution_count": 41,
   "metadata": {},
   "outputs": [
    {
     "name": "stdout",
     "output_type": "stream",
     "text": [
      "Total indegree of collisions for each k\n",
      "{'1orbit-0-corre-dict': 0,\n",
      " '1orbit-2-corre-dict': 0,\n",
      " '1orbit-3-corre-dict': 0,\n",
      " '1orbit-4-corre-dict': 2,\n",
      " '1orbit-5-corre-dict': 3,\n",
      " '1orbit-6-corre-dict': 14}\n",
      "\n",
      "\n",
      "Recall the number of nodes with indegree bigger than 1 is:  4\n",
      "\n",
      "\n",
      "Random collision: (2, 83, 126)\n",
      "\n",
      "All collisions:\n",
      "[(5, 0, 1, 57, 7),\n",
      " (6, 0, 1, 2, 3, 4, 5, 6, 7, 8, 9, 10, 20, 22, 57, 58),\n",
      " (6, 346, 78),\n",
      " (4, 0, 1)]\n"
     ]
    }
   ],
   "source": [
    "histogram, non_singleton_nodes = HCF.count_collisions(G, kcorre_names)      \n",
    "\n",
    "\n",
    "print(\"Total indegree of collisions for each k\")\n",
    "pprint.pprint(histogram)\n",
    "print(\"\\n\")\n",
    "print(\"Recall the number of nodes with indegree bigger than 1 is: \", len(non_singleton_nodes))\n",
    "print(\"\\n\")\n",
    "\n",
    "try:\n",
    "    hit = random.choice(hits)\n",
    "    print(\"Random collision: {}\".format(hit))\n",
    "except Exception as e:\n",
    "    print(\"Cannot find a collision:\", e)\n",
    "\n",
    "\n",
    "print(\"\\nAll collisions:\")\n",
    "pprint.pprint(non_singleton_nodes)\n"
   ]
  },
  {
   "cell_type": "markdown",
   "metadata": {},
   "source": [
    "### Let's look at the edges that are in the graph but not in the tree."
   ]
  },
  {
   "cell_type": "markdown",
   "metadata": {},
   "source": [
    "Thus should return similar information to the cells above, i.e. edges that are creating collisions."
   ]
  },
  {
   "cell_type": "code",
   "execution_count": 43,
   "metadata": {},
   "outputs": [
    {
     "name": "stdout",
     "output_type": "stream",
     "text": [
      "The nuber of edges that we removed is: 15.\n",
      "((5, 2), (6, 0, 1, 2, 3, 4, 5, 6, 7, 8, 9, 10, 20, 22, 57, 58))\n",
      "((5, 3), (6, 0, 1, 2, 3, 4, 5, 6, 7, 8, 9, 10, 20, 22, 57, 58))\n",
      "((5, 4), (6, 0, 1, 2, 3, 4, 5, 6, 7, 8, 9, 10, 20, 22, 57, 58))\n",
      "((5, 5), (6, 0, 1, 2, 3, 4, 5, 6, 7, 8, 9, 10, 20, 22, 57, 58))\n",
      "((5, 6), (6, 0, 1, 2, 3, 4, 5, 6, 7, 8, 9, 10, 20, 22, 57, 58))\n",
      "((5, 8), (6, 0, 1, 2, 3, 4, 5, 6, 7, 8, 9, 10, 20, 22, 57, 58))\n",
      "((5, 9), (6, 0, 1, 2, 3, 4, 5, 6, 7, 8, 9, 10, 20, 22, 57, 58))\n",
      "((5, 10), (6, 0, 1, 2, 3, 4, 5, 6, 7, 8, 9, 10, 20, 22, 57, 58))\n",
      "((5, 20), (6, 0, 1, 2, 3, 4, 5, 6, 7, 8, 9, 10, 20, 22, 57, 58))\n",
      "((5, 22), (6, 0, 1, 2, 3, 4, 5, 6, 7, 8, 9, 10, 20, 22, 57, 58))\n",
      "((5, 58), (6, 0, 1, 2, 3, 4, 5, 6, 7, 8, 9, 10, 20, 22, 57, 58))\n",
      "((5, 346), (6, 346, 78))\n",
      "((4, 7), (5, 0, 1, 57, 7))\n",
      "((4, 57), (5, 0, 1, 57, 7))\n",
      "((3, 1), (4, 0, 1))\n"
     ]
    }
   ],
   "source": [
    "# Remove G_Bfs from G\n",
    "G_leftover_edges = HCF.graph_subtraction_edges(G, G_bfs)\n",
    "\n",
    "print(\"The nuber of edges that we removed is: {}.\".format(len(G_leftover_edges.edges())))\n",
    "\n",
    "for edge in G_leftover_edges.edges():\n",
    "    print(edge)\n"
   ]
  },
  {
   "cell_type": "markdown",
   "metadata": {},
   "source": []
  },
  {
   "cell_type": "markdown",
   "metadata": {},
   "source": [
    "##  Plotting histograms\n"
   ]
  },
  {
   "cell_type": "code",
   "execution_count": 48,
   "metadata": {},
   "outputs": [
    {
     "name": "stdout",
     "output_type": "stream",
     "text": [
      "[723, 1042, 1043, 1041, 1029]\n",
      "1044\n"
     ]
    },
    {
     "data": {
      "image/png": "[encoded data removed]",
      "text/plain": [
       "<Figure size 640x480 with 1 Axes>"
      ]
     },
     "metadata": {},
     "output_type": "display_data"
    }
   ],
   "source": [
    "number_differe_kredskew = []\n",
    "for kcorre_name in kcorre_names:\n",
    "    number_differe_kredskew.append(len(set(tuple(row) for row in dataset[kcorre_name])))\n",
    "\n",
    "print(number_differe_kredskew)\n",
    "print(non_isomorphic_graphs)\n",
    "\n",
    "\n",
    "plt.bar(range(len(kcorre_names)), number_differe_kredskew)\n",
    "\n",
    "plt.axhline(y = non_isomorphic_graphs, color = 'r', linestyle = '-')     # non isomorphic graphs set at the beginning of the notebook\n",
    "\n",
    "plt.xlabel('k redskew')\n",
    "plt.ylabel('Number')\n",
    "plt.yscale(\"log\") \n",
    "plt.title('Different skew spectra for each k redskew')\n",
    "\n",
    "plt.show()"
   ]
  },
  {
   "cell_type": "code",
   "execution_count": null,
   "metadata": {},
   "outputs": [],
   "source": [
    "[723, 1042, 1043, 1041, 1029]\n",
    "1044\n",
    "\n",
    "\n",
    "CHECK WHY 1044 vs 1043 if there is a bug or is consistent with the rest of the things. "
   ]
  }
 ],
 "metadata": {
  "kernelspec": {
   "display_name": "tf_m1",
   "language": "python",
   "name": "python3"
  },
  "language_info": {
   "codemirror_mode": {
    "name": "ipython",
    "version": 3
   },
   "file_extension": ".py",
   "mimetype": "text/x-python",
   "name": "python",
   "nbconvert_exporter": "python",
   "pygments_lexer": "ipython3",
   "version": "3.10.5"
  },
  "orig_nbformat": 4
 },
 "nbformat": 4,
 "nbformat_minor": 2
}
